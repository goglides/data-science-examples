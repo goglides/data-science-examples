{
  "cells": [
    {
      "cell_type": "markdown",
      "metadata": {
        "id": "-dg797N9a1y_"
      },
      "source": [
        "**INTRODUCTION**\n",
        "\n",
        "  Have you ever posed a question to an AI language model like ChatGPT, hoping to learn about the latest advancements in a specific area, only to receive a response along the lines of, 'I'm sorry, but I'm unable to provide real-time updates or access current news. My knowledge is frozen in time, last updated in September 2021.' This limitation is inherent in large language models—they're essentially static repositories of information, incapable of learning or retaining new knowledge without undergoing a complex and time-consuming retraining process. In simpler terms, they're like time capsules, capturing knowledge up to a certain point but unable to keep up with ongoing developments.\n",
        "\n",
        " Now what if we could supplement their existing knowledge with up-to-date information, enabling them to provide more accurate and relevant responses without the need for extensive retraining?This is exactly what **Retrieval Augmented Generation (RAG)** does."
      ]
    },
    {
      "cell_type": "markdown",
      "metadata": {
        "id": "OyvYI5u_-hU2"
      },
      "source": [
        "RAG has two components:\n",
        "\n",
        "\n",
        "\n",
        "> ***RETRIEVER***: Retriever module is responsible for finding the most relevant information from a repository of information or dataset in response to user query.\n",
        "\n",
        ">  ***GENERATOR***:\n",
        " Once the retriever identifies pertinent information, it must be relayed back to the application for presentation to the user. So, a generator is used to transform the retrieved data into understandable content suitable for humans.\n",
        "\n",
        "\n",
        "\n",
        "\n",
        "\n",
        "\n",
        "\n"
      ]
    },
    {
      "cell_type": "markdown",
      "metadata": {
        "id": "7lLmNC6lwC7n"
      },
      "source": [
        "***The Architecture of RAG: ***\n",
        "\n",
        "![dig1.png](data:image/png;base64,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)\n",
        "\n"
      ]
    },
    {
      "cell_type": "markdown",
      "metadata": {
        "id": "c29uZ8jLDVPr"
      },
      "source": [
        "Below is the RAG process\n",
        "\n",
        "\n",
        "> 1)A human asks a question of the LLM.\n",
        "\n",
        "> 2)The RAG system looks up the repository of information (vector database) and extracts content that may be relevant.\n",
        "\n",
        "\n",
        "> 3)The RAG system passes the user’s query, plus the additional content retrieved from the document store, to the LLM.\n",
        "\n",
        "\n",
        "> 4)Now the LLM provides an answer that makes sense in the context of the content retrieved from the repository of information(vector database).\n",
        "\n",
        "\n",
        "> 5)The RAG system returns the response from the LLM\n",
        "\n",
        "\n",
        "\n",
        "\n",
        "\n",
        "\n",
        "\n",
        "\n",
        "  \n",
        "\n",
        "\n",
        "\n",
        "\n",
        "\n"
      ]
    },
    {
      "cell_type": "markdown",
      "metadata": {
        "id": "jMXHLlWJdff-"
      },
      "source": [
        "Now that we have understood RAG.Let's go ahead and build a simple RAG system."
      ]
    },
    {
      "cell_type": "markdown",
      "metadata": {
        "id": "wqWQUhaWeRik"
      },
      "source": [
        "\n",
        "**Required Installations:**\n",
        "\n",
        "**LANGCHAIN**  \n",
        "\n",
        "> LangChain simplifies the development of applications leveraging language models by providing a framework for Python and TypeScript/JavaScript. With LangChain, developers can seamlessly chain together agents or tasks to interface with models, integrate with various data sources, including vector data stores, and manage data and model responses efficiently.\n",
        "\n",
        "**FAISS**\n",
        "\n",
        "> is an open-source library developed by Facebook AI Research (FAIR) for efficient similarity search and clustering of dense vectors. It's designed to handle large-scale datasets and is optimized for both memory usage and computational speed.\n",
        "\n",
        "\n",
        "\n",
        "\n",
        "\n",
        "\n",
        "Below is the link on instructions of how to install FAISS\n",
        "\n",
        "https://github.com/facebookresearch/faiss/blob/main/INSTALL.md"
      ]
    },
    {
      "cell_type": "code",
      "execution_count": 21,
      "metadata": {
        "colab": {
          "base_uri": "https://localhost:8080/"
        },
        "id": "iWvX1c9EdkCh",
        "outputId": "630c957d-d9d8-486a-fc15-6f4534c59df8"
      },
      "outputs": [
        {
          "name": "stdout",
          "output_type": "stream",
          "text": [
            "Requirement already satisfied: langchain in /usr/local/lib/python3.10/dist-packages (0.1.7)\n",
            "Requirement already satisfied: PyYAML>=5.3 in /usr/local/lib/python3.10/dist-packages (from langchain) (6.0.1)\n",
            "Requirement already satisfied: SQLAlchemy<3,>=1.4 in /usr/local/lib/python3.10/dist-packages (from langchain) (2.0.27)\n",
            "Requirement already satisfied: aiohttp<4.0.0,>=3.8.3 in /usr/local/lib/python3.10/dist-packages (from langchain) (3.9.3)\n",
            "Requirement already satisfied: async-timeout<5.0.0,>=4.0.0 in /usr/local/lib/python3.10/dist-packages (from langchain) (4.0.3)\n",
            "Requirement already satisfied: dataclasses-json<0.7,>=0.5.7 in /usr/local/lib/python3.10/dist-packages (from langchain) (0.6.4)\n",
            "Requirement already satisfied: jsonpatch<2.0,>=1.33 in /usr/local/lib/python3.10/dist-packages (from langchain) (1.33)\n",
            "Requirement already satisfied: langchain-community<0.1,>=0.0.20 in /usr/local/lib/python3.10/dist-packages (from langchain) (0.0.20)\n",
            "Requirement already satisfied: langchain-core<0.2,>=0.1.22 in /usr/local/lib/python3.10/dist-packages (from langchain) (0.1.23)\n",
            "Requirement already satisfied: langsmith<0.1,>=0.0.83 in /usr/local/lib/python3.10/dist-packages (from langchain) (0.0.87)\n",
            "Requirement already satisfied: numpy<2,>=1 in /usr/local/lib/python3.10/dist-packages (from langchain) (1.25.2)\n",
            "Requirement already satisfied: pydantic<3,>=1 in /usr/local/lib/python3.10/dist-packages (from langchain) (2.6.1)\n",
            "Requirement already satisfied: requests<3,>=2 in /usr/local/lib/python3.10/dist-packages (from langchain) (2.31.0)\n",
            "Requirement already satisfied: tenacity<9.0.0,>=8.1.0 in /usr/local/lib/python3.10/dist-packages (from langchain) (8.2.3)\n",
            "Requirement already satisfied: aiosignal>=1.1.2 in /usr/local/lib/python3.10/dist-packages (from aiohttp<4.0.0,>=3.8.3->langchain) (1.3.1)\n",
            "Requirement already satisfied: attrs>=17.3.0 in /usr/local/lib/python3.10/dist-packages (from aiohttp<4.0.0,>=3.8.3->langchain) (23.2.0)\n",
            "Requirement already satisfied: frozenlist>=1.1.1 in /usr/local/lib/python3.10/dist-packages (from aiohttp<4.0.0,>=3.8.3->langchain) (1.4.1)\n",
            "Requirement already satisfied: multidict<7.0,>=4.5 in /usr/local/lib/python3.10/dist-packages (from aiohttp<4.0.0,>=3.8.3->langchain) (6.0.5)\n",
            "Requirement already satisfied: yarl<2.0,>=1.0 in /usr/local/lib/python3.10/dist-packages (from aiohttp<4.0.0,>=3.8.3->langchain) (1.9.4)\n",
            "Requirement already satisfied: marshmallow<4.0.0,>=3.18.0 in /usr/local/lib/python3.10/dist-packages (from dataclasses-json<0.7,>=0.5.7->langchain) (3.20.2)\n",
            "Requirement already satisfied: typing-inspect<1,>=0.4.0 in /usr/local/lib/python3.10/dist-packages (from dataclasses-json<0.7,>=0.5.7->langchain) (0.9.0)\n",
            "Requirement already satisfied: jsonpointer>=1.9 in /usr/local/lib/python3.10/dist-packages (from jsonpatch<2.0,>=1.33->langchain) (2.4)\n",
            "Requirement already satisfied: anyio<5,>=3 in /usr/local/lib/python3.10/dist-packages (from langchain-core<0.2,>=0.1.22->langchain) (3.7.1)\n",
            "Requirement already satisfied: packaging<24.0,>=23.2 in /usr/local/lib/python3.10/dist-packages (from langchain-core<0.2,>=0.1.22->langchain) (23.2)\n",
            "Requirement already satisfied: annotated-types>=0.4.0 in /usr/local/lib/python3.10/dist-packages (from pydantic<3,>=1->langchain) (0.6.0)\n",
            "Requirement already satisfied: pydantic-core==2.16.2 in /usr/local/lib/python3.10/dist-packages (from pydantic<3,>=1->langchain) (2.16.2)\n",
            "Requirement already satisfied: typing-extensions>=4.6.1 in /usr/local/lib/python3.10/dist-packages (from pydantic<3,>=1->langchain) (4.9.0)\n",
            "Requirement already satisfied: charset-normalizer<4,>=2 in /usr/local/lib/python3.10/dist-packages (from requests<3,>=2->langchain) (3.3.2)\n",
            "Requirement already satisfied: idna<4,>=2.5 in /usr/local/lib/python3.10/dist-packages (from requests<3,>=2->langchain) (3.6)\n",
            "Requirement already satisfied: urllib3<3,>=1.21.1 in /usr/local/lib/python3.10/dist-packages (from requests<3,>=2->langchain) (2.0.7)\n",
            "Requirement already satisfied: certifi>=2017.4.17 in /usr/local/lib/python3.10/dist-packages (from requests<3,>=2->langchain) (2024.2.2)\n",
            "Requirement already satisfied: greenlet!=0.4.17 in /usr/local/lib/python3.10/dist-packages (from SQLAlchemy<3,>=1.4->langchain) (3.0.3)\n",
            "Requirement already satisfied: sniffio>=1.1 in /usr/local/lib/python3.10/dist-packages (from anyio<5,>=3->langchain-core<0.2,>=0.1.22->langchain) (1.3.0)\n",
            "Requirement already satisfied: exceptiongroup in /usr/local/lib/python3.10/dist-packages (from anyio<5,>=3->langchain-core<0.2,>=0.1.22->langchain) (1.2.0)\n",
            "Requirement already satisfied: mypy-extensions>=0.3.0 in /usr/local/lib/python3.10/dist-packages (from typing-inspect<1,>=0.4.0->dataclasses-json<0.7,>=0.5.7->langchain) (1.0.0)\n",
            "Requirement already satisfied: langchain_community in /usr/local/lib/python3.10/dist-packages (0.0.20)\n",
            "Requirement already satisfied: PyYAML>=5.3 in /usr/local/lib/python3.10/dist-packages (from langchain_community) (6.0.1)\n",
            "Requirement already satisfied: SQLAlchemy<3,>=1.4 in /usr/local/lib/python3.10/dist-packages (from langchain_community) (2.0.27)\n",
            "Requirement already satisfied: aiohttp<4.0.0,>=3.8.3 in /usr/local/lib/python3.10/dist-packages (from langchain_community) (3.9.3)\n",
            "Requirement already satisfied: dataclasses-json<0.7,>=0.5.7 in /usr/local/lib/python3.10/dist-packages (from langchain_community) (0.6.4)\n",
            "Requirement already satisfied: langchain-core<0.2,>=0.1.21 in /usr/local/lib/python3.10/dist-packages (from langchain_community) (0.1.23)\n",
            "Requirement already satisfied: langsmith<0.1,>=0.0.83 in /usr/local/lib/python3.10/dist-packages (from langchain_community) (0.0.87)\n",
            "Requirement already satisfied: numpy<2,>=1 in /usr/local/lib/python3.10/dist-packages (from langchain_community) (1.25.2)\n",
            "Requirement already satisfied: requests<3,>=2 in /usr/local/lib/python3.10/dist-packages (from langchain_community) (2.31.0)\n",
            "Requirement already satisfied: tenacity<9.0.0,>=8.1.0 in /usr/local/lib/python3.10/dist-packages (from langchain_community) (8.2.3)\n",
            "Requirement already satisfied: aiosignal>=1.1.2 in /usr/local/lib/python3.10/dist-packages (from aiohttp<4.0.0,>=3.8.3->langchain_community) (1.3.1)\n",
            "Requirement already satisfied: attrs>=17.3.0 in /usr/local/lib/python3.10/dist-packages (from aiohttp<4.0.0,>=3.8.3->langchain_community) (23.2.0)\n",
            "Requirement already satisfied: frozenlist>=1.1.1 in /usr/local/lib/python3.10/dist-packages (from aiohttp<4.0.0,>=3.8.3->langchain_community) (1.4.1)\n",
            "Requirement already satisfied: multidict<7.0,>=4.5 in /usr/local/lib/python3.10/dist-packages (from aiohttp<4.0.0,>=3.8.3->langchain_community) (6.0.5)\n",
            "Requirement already satisfied: yarl<2.0,>=1.0 in /usr/local/lib/python3.10/dist-packages (from aiohttp<4.0.0,>=3.8.3->langchain_community) (1.9.4)\n",
            "Requirement already satisfied: async-timeout<5.0,>=4.0 in /usr/local/lib/python3.10/dist-packages (from aiohttp<4.0.0,>=3.8.3->langchain_community) (4.0.3)\n",
            "Requirement already satisfied: marshmallow<4.0.0,>=3.18.0 in /usr/local/lib/python3.10/dist-packages (from dataclasses-json<0.7,>=0.5.7->langchain_community) (3.20.2)\n",
            "Requirement already satisfied: typing-inspect<1,>=0.4.0 in /usr/local/lib/python3.10/dist-packages (from dataclasses-json<0.7,>=0.5.7->langchain_community) (0.9.0)\n",
            "Requirement already satisfied: anyio<5,>=3 in /usr/local/lib/python3.10/dist-packages (from langchain-core<0.2,>=0.1.21->langchain_community) (3.7.1)\n",
            "Requirement already satisfied: jsonpatch<2.0,>=1.33 in /usr/local/lib/python3.10/dist-packages (from langchain-core<0.2,>=0.1.21->langchain_community) (1.33)\n",
            "Requirement already satisfied: packaging<24.0,>=23.2 in /usr/local/lib/python3.10/dist-packages (from langchain-core<0.2,>=0.1.21->langchain_community) (23.2)\n",
            "Requirement already satisfied: pydantic<3,>=1 in /usr/local/lib/python3.10/dist-packages (from langchain-core<0.2,>=0.1.21->langchain_community) (2.6.1)\n",
            "Requirement already satisfied: charset-normalizer<4,>=2 in /usr/local/lib/python3.10/dist-packages (from requests<3,>=2->langchain_community) (3.3.2)\n",
            "Requirement already satisfied: idna<4,>=2.5 in /usr/local/lib/python3.10/dist-packages (from requests<3,>=2->langchain_community) (3.6)\n",
            "Requirement already satisfied: urllib3<3,>=1.21.1 in /usr/local/lib/python3.10/dist-packages (from requests<3,>=2->langchain_community) (2.0.7)\n",
            "Requirement already satisfied: certifi>=2017.4.17 in /usr/local/lib/python3.10/dist-packages (from requests<3,>=2->langchain_community) (2024.2.2)\n",
            "Requirement already satisfied: typing-extensions>=4.6.0 in /usr/local/lib/python3.10/dist-packages (from SQLAlchemy<3,>=1.4->langchain_community) (4.9.0)\n",
            "Requirement already satisfied: greenlet!=0.4.17 in /usr/local/lib/python3.10/dist-packages (from SQLAlchemy<3,>=1.4->langchain_community) (3.0.3)\n",
            "Requirement already satisfied: sniffio>=1.1 in /usr/local/lib/python3.10/dist-packages (from anyio<5,>=3->langchain-core<0.2,>=0.1.21->langchain_community) (1.3.0)\n",
            "Requirement already satisfied: exceptiongroup in /usr/local/lib/python3.10/dist-packages (from anyio<5,>=3->langchain-core<0.2,>=0.1.21->langchain_community) (1.2.0)\n",
            "Requirement already satisfied: jsonpointer>=1.9 in /usr/local/lib/python3.10/dist-packages (from jsonpatch<2.0,>=1.33->langchain-core<0.2,>=0.1.21->langchain_community) (2.4)\n",
            "Requirement already satisfied: annotated-types>=0.4.0 in /usr/local/lib/python3.10/dist-packages (from pydantic<3,>=1->langchain-core<0.2,>=0.1.21->langchain_community) (0.6.0)\n",
            "Requirement already satisfied: pydantic-core==2.16.2 in /usr/local/lib/python3.10/dist-packages (from pydantic<3,>=1->langchain-core<0.2,>=0.1.21->langchain_community) (2.16.2)\n",
            "Requirement already satisfied: mypy-extensions>=0.3.0 in /usr/local/lib/python3.10/dist-packages (from typing-inspect<1,>=0.4.0->dataclasses-json<0.7,>=0.5.7->langchain_community) (1.0.0)\n",
            "Requirement already satisfied: langchain_openai in /usr/local/lib/python3.10/dist-packages (0.0.6)\n",
            "Requirement already satisfied: langchain-core<0.2,>=0.1.16 in /usr/local/lib/python3.10/dist-packages (from langchain_openai) (0.1.23)\n",
            "Requirement already satisfied: numpy<2,>=1 in /usr/local/lib/python3.10/dist-packages (from langchain_openai) (1.25.2)\n",
            "Requirement already satisfied: openai<2.0.0,>=1.10.0 in /usr/local/lib/python3.10/dist-packages (from langchain_openai) (1.12.0)\n",
            "Requirement already satisfied: tiktoken<1,>=0.5.2 in /usr/local/lib/python3.10/dist-packages (from langchain_openai) (0.6.0)\n",
            "Requirement already satisfied: PyYAML>=5.3 in /usr/local/lib/python3.10/dist-packages (from langchain-core<0.2,>=0.1.16->langchain_openai) (6.0.1)\n",
            "Requirement already satisfied: anyio<5,>=3 in /usr/local/lib/python3.10/dist-packages (from langchain-core<0.2,>=0.1.16->langchain_openai) (3.7.1)\n",
            "Requirement already satisfied: jsonpatch<2.0,>=1.33 in /usr/local/lib/python3.10/dist-packages (from langchain-core<0.2,>=0.1.16->langchain_openai) (1.33)\n",
            "Requirement already satisfied: langsmith<0.0.88,>=0.0.87 in /usr/local/lib/python3.10/dist-packages (from langchain-core<0.2,>=0.1.16->langchain_openai) (0.0.87)\n",
            "Requirement already satisfied: packaging<24.0,>=23.2 in /usr/local/lib/python3.10/dist-packages (from langchain-core<0.2,>=0.1.16->langchain_openai) (23.2)\n",
            "Requirement already satisfied: pydantic<3,>=1 in /usr/local/lib/python3.10/dist-packages (from langchain-core<0.2,>=0.1.16->langchain_openai) (2.6.1)\n",
            "Requirement already satisfied: requests<3,>=2 in /usr/local/lib/python3.10/dist-packages (from langchain-core<0.2,>=0.1.16->langchain_openai) (2.31.0)\n",
            "Requirement already satisfied: tenacity<9.0.0,>=8.1.0 in /usr/local/lib/python3.10/dist-packages (from langchain-core<0.2,>=0.1.16->langchain_openai) (8.2.3)\n",
            "Requirement already satisfied: distro<2,>=1.7.0 in /usr/lib/python3/dist-packages (from openai<2.0.0,>=1.10.0->langchain_openai) (1.7.0)\n",
            "Requirement already satisfied: httpx<1,>=0.23.0 in /usr/local/lib/python3.10/dist-packages (from openai<2.0.0,>=1.10.0->langchain_openai) (0.26.0)\n",
            "Requirement already satisfied: sniffio in /usr/local/lib/python3.10/dist-packages (from openai<2.0.0,>=1.10.0->langchain_openai) (1.3.0)\n",
            "Requirement already satisfied: tqdm>4 in /usr/local/lib/python3.10/dist-packages (from openai<2.0.0,>=1.10.0->langchain_openai) (4.66.2)\n",
            "Requirement already satisfied: typing-extensions<5,>=4.7 in /usr/local/lib/python3.10/dist-packages (from openai<2.0.0,>=1.10.0->langchain_openai) (4.9.0)\n",
            "Requirement already satisfied: regex>=2022.1.18 in /usr/local/lib/python3.10/dist-packages (from tiktoken<1,>=0.5.2->langchain_openai) (2023.12.25)\n",
            "Requirement already satisfied: idna>=2.8 in /usr/local/lib/python3.10/dist-packages (from anyio<5,>=3->langchain-core<0.2,>=0.1.16->langchain_openai) (3.6)\n",
            "Requirement already satisfied: exceptiongroup in /usr/local/lib/python3.10/dist-packages (from anyio<5,>=3->langchain-core<0.2,>=0.1.16->langchain_openai) (1.2.0)\n",
            "Requirement already satisfied: certifi in /usr/local/lib/python3.10/dist-packages (from httpx<1,>=0.23.0->openai<2.0.0,>=1.10.0->langchain_openai) (2024.2.2)\n",
            "Requirement already satisfied: httpcore==1.* in /usr/local/lib/python3.10/dist-packages (from httpx<1,>=0.23.0->openai<2.0.0,>=1.10.0->langchain_openai) (1.0.3)\n",
            "Requirement already satisfied: h11<0.15,>=0.13 in /usr/local/lib/python3.10/dist-packages (from httpcore==1.*->httpx<1,>=0.23.0->openai<2.0.0,>=1.10.0->langchain_openai) (0.14.0)\n",
            "Requirement already satisfied: jsonpointer>=1.9 in /usr/local/lib/python3.10/dist-packages (from jsonpatch<2.0,>=1.33->langchain-core<0.2,>=0.1.16->langchain_openai) (2.4)\n",
            "Requirement already satisfied: annotated-types>=0.4.0 in /usr/local/lib/python3.10/dist-packages (from pydantic<3,>=1->langchain-core<0.2,>=0.1.16->langchain_openai) (0.6.0)\n",
            "Requirement already satisfied: pydantic-core==2.16.2 in /usr/local/lib/python3.10/dist-packages (from pydantic<3,>=1->langchain-core<0.2,>=0.1.16->langchain_openai) (2.16.2)\n",
            "Requirement already satisfied: charset-normalizer<4,>=2 in /usr/local/lib/python3.10/dist-packages (from requests<3,>=2->langchain-core<0.2,>=0.1.16->langchain_openai) (3.3.2)\n",
            "Requirement already satisfied: urllib3<3,>=1.21.1 in /usr/local/lib/python3.10/dist-packages (from requests<3,>=2->langchain-core<0.2,>=0.1.16->langchain_openai) (2.0.7)\n",
            "Requirement already satisfied: faiss-cpu in /usr/local/lib/python3.10/dist-packages (1.7.4)\n"
          ]
        }
      ],
      "source": [
        "#Install the required libraries\n",
        "!pip install -U  langchain\n",
        "!pip install -U langchain_community\n",
        "!pip install -U langchain_openai\n",
        "!pip install faiss-cpu"
      ]
    },
    {
      "cell_type": "markdown",
      "metadata": {
        "id": "cEDUwM-4kVzw"
      },
      "source": [
        "**LOAD THE DOCUMENT:**\n",
        "\n",
        "Now we need a document corpus.Here lets use a single document for simplicity.We are using stateOFTheUnion 2023 address by Joe Biden.You can replace it with any document you like.Below is the link from which you can download\n",
        "https://images.idgesg.net/assets/2024/02/stateoftheunion2023.txt\n",
        "\n",
        "We use **document loaders** in Langchain to load data from a source as Document's. A Document is a piece of text and associated metadata. For example, there are document loaders for loading a simple .txt file, for loading the text contents of any web page, or even for loading a transcript of a YouTube video."
      ]
    },
    {
      "cell_type": "code",
      "execution_count": 22,
      "metadata": {
        "id": "eAxDcVNKkikS"
      },
      "outputs": [],
      "source": [
        "from langchain_community.document_loaders import TextLoader\n",
        "loader = TextLoader('./stateOfTheUnion2023.txt')"
      ]
    },
    {
      "cell_type": "markdown",
      "metadata": {
        "id": "ISQ1ec7TDIjk"
      },
      "source": [
        "**SPLIT THE DATA:**\n",
        "\n",
        "For large-scale datasets, we split text into smaller chunks  to improve the efficiency, scalability, and robustness of text processing tasks"
      ]
    },
    {
      "cell_type": "code",
      "execution_count": 23,
      "metadata": {
        "id": "rlo3AWKapb7F"
      },
      "outputs": [],
      "source": [
        "from langchain.text_splitter import CharacterTextSplitter\n",
        "documents = loader.load()\n",
        "text_splitter = CharacterTextSplitter(chunk_size=1000, chunk_overlap=0)\n",
        "texts = text_splitter.split_documents(documents)"
      ]
    },
    {
      "cell_type": "markdown",
      "metadata": {
        "id": "HAOdUq66qwYw"
      },
      "source": [
        "**CREATE A VECTOR DATABASE:**\n",
        "\n",
        "Next step is to generate embeddings (vector representations) for text.We use an OpenAI default embedding model for this.\n",
        "\n",
        "Post this we use FAISS to create a database from the text documents . FAISS is a library for efficient similarity search and indexing of high-dimensional vectors.\n",
        "\n",
        "LangChain provides API functions to interact with FAISS.So create an OPENAI API KEY here https://platform.openai.com/api-keys\n",
        "and paste it below"
      ]
    },
    {
      "cell_type": "code",
      "execution_count": 24,
      "metadata": {
        "id": "lpn4Hcr0szS4"
      },
      "outputs": [],
      "source": [
        "from langchain_community.vectorstores import FAISS\n",
        "from langchain_openai.embeddings import OpenAIEmbeddings\n",
        "import os\n",
        "os.environ[\"OPENAI_API_KEY\"] = \"input Your api key here\""
      ]
    },
    {
      "cell_type": "code",
      "execution_count": 25,
      "metadata": {
        "id": "P3EAXeP-vubu"
      },
      "outputs": [],
      "source": [
        "embeddings = OpenAIEmbeddings()\n",
        "db = FAISS.from_documents(texts, embeddings)"
      ]
    },
    {
      "cell_type": "markdown",
      "metadata": {
        "id": "Vsx2K1263S7O"
      },
      "source": [
        "**RETRIEVER TOOL:**\n",
        "\n",
        "we use LangChain to create a retriever for our vector database\n",
        "The main things we need to pass in are a name for the retriever as well as a description"
      ]
    },
    {
      "cell_type": "code",
      "execution_count": 26,
      "metadata": {
        "id": "l4Dxwg-23Zyg"
      },
      "outputs": [],
      "source": [
        "# We create a 'retriever' that knows how to interact with our vector database using an augmented context\n",
        "retriever = db.as_retriever()\n",
        "from langchain.agents.agent_toolkits import create_retriever_tool\n",
        "tool = create_retriever_tool(\n",
        "    retriever,\n",
        "    \"search_state_of_union\",\n",
        "    \"Searches and returns documents regarding the state-of-the-union.\"\n",
        ")\n",
        "tools = [tool]"
      ]
    },
    {
      "cell_type": "markdown",
      "metadata": {
        "id": "1Gk2XPpV3_VO"
      },
      "source": [
        "**GENERATOR:**\n",
        "\n",
        "We wrap an LLM (here OpenAI) with a conversational interface that can process augmented requests"
      ]
    },
    {
      "cell_type": "code",
      "execution_count": 31,
      "metadata": {
        "id": "WXnYkrrC39FA"
      },
      "outputs": [],
      "source": [
        "from langchain.agents.agent_toolkits import create_conversational_retrieval_agent\n",
        "# LangChain provides an API to interact with chat models\n",
        "from langchain_openai.chat_models import ChatOpenAI\n",
        "llm = ChatOpenAI(temperature = 0)\n",
        "agent_executor = create_conversational_retrieval_agent(llm, tools, verbose=True)\n"
      ]
    },
    {
      "cell_type": "markdown",
      "metadata": {
        "id": "Rv6KMk5B8Yk2"
      },
      "source": [
        "\n",
        "Next up .. we can use our LLM integrated with RAG"
      ]
    },
    {
      "cell_type": "code",
      "execution_count": 32,
      "metadata": {
        "colab": {
          "base_uri": "https://localhost:8080/"
        },
        "id": "gFm9M0Tk4X2Q",
        "outputId": "40d5b35c-669e-4d20-9ee0-18f2b20dbb8a"
      },
      "outputs": [
        {
          "name": "stdout",
          "output_type": "stream",
          "text": [
            "\n",
            "\n",
            "\u001b[1m> Entering new AgentExecutor chain...\u001b[0m\n",
            "\u001b[32;1m\u001b[1;3mNATO stands for the North Atlantic Treaty Organization. It is an intergovernmental military alliance between 30 North American and European countries. NATO's purpose is to guarantee the freedom and security of its members through political and military means. The alliance was established in 1949 and is based on the North Atlantic Treaty. NATO members commit to mutual defense in response to an attack by any external party.\u001b[0m\n",
            "\n",
            "\u001b[1m> Finished chain.\u001b[0m\n",
            "\n",
            "\n",
            "\u001b[1m> Entering new AgentExecutor chain...\u001b[0m\n",
            "\u001b[32;1m\u001b[1;3mNATO was created on April 4, 1949.\u001b[0m\n",
            "\n",
            "\u001b[1m> Finished chain.\u001b[0m\n"
          ]
        }
      ],
      "source": [
        "input = \"what is NATO?\"\n",
        "result = agent_executor.invoke({\"input\": input})\n",
        "\n",
        "# Response from the model\n",
        "\n",
        "input = \"When was it created?\"\n",
        "result = agent_executor.invoke({\"input\": input})\n",
        "\n",
        "# Response from the model\n"
      ]
    },
    {
      "cell_type": "markdown",
      "metadata": {
        "id": "uj68Uqt48ma0"
      },
      "source": [
        "Now lets ask about the most recent happennings and see how our chatbot gives the relevant answer using RAG"
      ]
    },
    {
      "cell_type": "code",
      "execution_count": 34,
      "metadata": {
        "colab": {
          "base_uri": "https://localhost:8080/",
          "height": 211
        },
        "id": "r0ULhF9V5-p2",
        "outputId": "8b5b450a-3a2c-472b-b388-dc2a4fbd717e"
      },
      "outputs": [
        {
          "name": "stdout",
          "output_type": "stream",
          "text": [
            "\n",
            "\n",
            "\u001b[1m> Entering new AgentExecutor chain...\u001b[0m\n",
            "\u001b[32;1m\u001b[1;3mIn the most recent State of the Union address, the President mentioned that inflation has been a global problem due to disruptions caused by the pandemic and external factors like Putin's war. However, the President also stated that inflation in the United States is coming down. The President highlighted the Inflation Reduction Act as a significant step to bring down healthcare costs and address the issue of high prescription drug prices.\u001b[0m\n",
            "\n",
            "\u001b[1m> Finished chain.\u001b[0m\n"
          ]
        },
        {
          "data": {
            "application/vnd.google.colaboratory.intrinsic+json": {
              "type": "string"
            },
            "text/plain": [
              "\"In the most recent State of the Union address, the President mentioned that inflation has been a global problem due to disruptions caused by the pandemic and external factors like Putin's war. However, the President also stated that inflation in the United States is coming down. The President highlighted the Inflation Reduction Act as a significant step to bring down healthcare costs and address the issue of high prescription drug prices.\""
            ]
          },
          "execution_count": 34,
          "metadata": {},
          "output_type": "execute_result"
        }
      ],
      "source": [
        "input=\"what did the president say about inflation in the most recent state of the union?\"\n",
        "result = agent_executor.invoke({\"input\": input})\n",
        "result[\"output\"]"
      ]
    },
    {
      "cell_type": "markdown",
      "metadata": {
        "id": "vO0RyoKZKZwu"
      },
      "source": [
        "**CONCLUSION**:\n",
        "\n",
        "\n",
        "Utilizing a framework like LangChain significantly streamlines the initial stages of delving into Large Language Model (LLM) applications. Especially for beginners looking to experiment with basic examples, LangChain is highly recommended. It facilitates a direct dive into retrieval-augmented generation tasks, allowing users to focus on core functionalities such as document ingestion and interactions between the vector database and the LLM, rather than becoming entangled in technical complexities.\n",
        "\n",
        "However, as you progress towards handling larger datasets and deploying applications in production, a more comprehensive exploration of local LLMs, vector databases, and embeddings becomes essential. This deeper understanding is crucial for optimizing performance and navigating the intricacies associated with managing extensive datasets and real-world deployment scenarios.\n",
        "\n",
        "\n"
      ]
    }
  ],
  "metadata": {
    "colab": {
      "provenance": []
    },
    "kernelspec": {
      "display_name": "Python 3",
      "name": "python3"
    },
    "language_info": {
      "name": "python"
    }
  },
  "nbformat": 4,
  "nbformat_minor": 0
}
