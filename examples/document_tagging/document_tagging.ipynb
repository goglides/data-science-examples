{
 "cells": [
  {
   "cell_type": "markdown",
   "metadata": {},
   "source": [
    "### Document Tagging using LLMs"
   ]
  },
  {
   "cell_type": "code",
   "execution_count": null,
   "metadata": {},
   "outputs": [],
   "source": [
    "%pip install -q gradio langchain langchain-community langchain-openai python-dotenv"
   ]
  },
  {
   "cell_type": "code",
   "execution_count": 1,
   "metadata": {},
   "outputs": [
    {
     "data": {
      "text/plain": [
       "True"
      ]
     },
     "execution_count": 1,
     "metadata": {},
     "output_type": "execute_result"
    }
   ],
   "source": [
    "#Import necessary libraries\n",
    "from langchain.chains import create_tagging_chain_pydantic\n",
    "from langchain_openai import ChatOpenAI\n",
    "from langchain_core.pydantic_v1 import BaseModel, Field\n",
    "from langchain_community.document_loaders import PyPDFLoader\n",
    "import os\n",
    "import dotenv\n",
    "dotenv.load_dotenv()"
   ]
  },
  {
   "cell_type": "code",
   "execution_count": 2,
   "metadata": {},
   "outputs": [],
   "source": [
    "#Validate data using pydantic\n",
    "class Tags(BaseModel):\n",
    "    Category: str = Field(..., enum=[\"Finance\", \"Politics\", \"Technology\"])\n",
    "#Function takes input as list of file paths and return corresponding tag\n",
    "def tagging(file_paths):\n",
    "  llm = ChatOpenAI(temperature=0, model=\"gpt-4\")\n",
    "  #pydantic chain which is key for tagging\n",
    "  chain = create_tagging_chain_pydantic(Tags, llm)\n",
    "  docs = \"\"\n",
    "  #Iterating over list of paths\n",
    "  for path in file_paths:\n",
    "    head = os.path.split(path)\n",
    "    loader = PyPDFLoader(path)\n",
    "    doc = loader.load()\n",
    "    docs += \"FileName: \"+str(head[1])+\"\\n\"+str(chain.run(doc))+\"\\n\\n\"\n",
    "  return docs"
   ]
  },
  {
   "cell_type": "code",
   "execution_count": 4,
   "metadata": {},
   "outputs": [
    {
     "name": "stderr",
     "output_type": "stream",
     "text": [
      "f:\\Upwork_Projects\\Document_tagging\\tagdoc-env\\Lib\\site-packages\\langchain_core\\_api\\deprecation.py:117: LangChainDeprecationWarning: The function `run` was deprecated in LangChain 0.1.0 and will be removed in 0.2.0. Use invoke instead.\n",
      "  warn_deprecated(\n"
     ]
    },
    {
     "name": "stdout",
     "output_type": "stream",
     "text": [
      "FileName: Employee Pay Slip.pdf\n",
      "Category='Finance'\n",
      "\n",
      "\n"
     ]
    }
   ],
   "source": [
    "#Testing with one path, we can give multiple path elements in the list.\n",
    "paths = ['data/Employee Pay Slip.pdf']\n",
    "results = tagging(paths)\n",
    "print(results)"
   ]
  },
  {
   "cell_type": "code",
   "execution_count": null,
   "metadata": {},
   "outputs": [],
   "source": []
  },
  {
   "cell_type": "code",
   "execution_count": null,
   "metadata": {},
   "outputs": [],
   "source": []
  }
 ],
 "metadata": {
  "kernelspec": {
   "display_name": "tagdoc-env",
   "language": "python",
   "name": "python3"
  },
  "language_info": {
   "codemirror_mode": {
    "name": "ipython",
    "version": 3
   },
   "file_extension": ".py",
   "mimetype": "text/x-python",
   "name": "python",
   "nbconvert_exporter": "python",
   "pygments_lexer": "ipython3",
   "version": "3.11.5"
  }
 },
 "nbformat": 4,
 "nbformat_minor": 2
}
