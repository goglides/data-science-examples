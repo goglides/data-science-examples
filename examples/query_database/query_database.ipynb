{
  "cells": [
    {
      "cell_type": "markdown",
      "metadata": {
        "id": "YW3WNltn8nJd"
      },
      "source": [
        "### Query database using Natural Language"
      ]
    },
    {
      "cell_type": "code",
      "execution_count": null,
      "metadata": {
        "id": "Aa9lqqsw8i1_"
      },
      "outputs": [],
      "source": [
        "%pip install -q streamlit langchain langchain-community langchain-openai python-dotenv"
      ]
    },
    {
      "cell_type": "code",
      "execution_count": 1,
      "metadata": {
        "id": "Fwzn_jMF8i30"
      },
      "outputs": [],
      "source": [
        "#import all necessary libraries\n",
        "from langchain.agents import create_sql_agent\n",
        "from langchain_community.agent_toolkits import SQLDatabaseToolkit\n",
        "from langchain_openai import ChatOpenAI\n",
        "from langchain.sql_database import SQLDatabase\n",
        "import os\n",
        "from dotenv import load_dotenv\n",
        "load_dotenv()\n",
        "api_key = os.getenv(\"openai_api_key\")"
      ]
    },
    {
      "cell_type": "code",
      "execution_count": 2,
      "metadata": {
        "id": "hrnC38fl8i6M"
      },
      "outputs": [],
      "source": [
        "#Function to create mysql agent\n",
        "def mysqldb_agent(db, llm, input):\n",
        "    toolkit = SQLDatabaseToolkit(db=db, llm=llm)\n",
        "    agent_executor = create_sql_agent(\n",
        "        llm=llm,\n",
        "        toolkit=toolkit,\n",
        "        verbose=True\n",
        "    )\n",
        "    return agent_executor.run(input)\n"
      ]
    },
    {
      "cell_type": "code",
      "execution_count": 3,
      "metadata": {
        "id": "I5mnKL6h9Pw4"
      },
      "outputs": [],
      "source": [
        "#OpenAI LLM\n",
        "llm = ChatOpenAI(temperature=0, model_name=\"gpt-3.5-turbo\", api_key=api_key)"
      ]
    },
    {
      "cell_type": "code",
      "execution_count": 4,
      "metadata": {
        "id": "YXoPiwRc8i8a"
      },
      "outputs": [],
      "source": [
        "#Database connection inputs\n",
        "db_user, db_password, db_host, db_name = \"root\", \"root\", \"localhost\", \"bankdata\""
      ]
    },
    {
      "cell_type": "code",
      "execution_count": 5,
      "metadata": {
        "colab": {
          "base_uri": "https://localhost:8080/"
        },
        "id": "uDUDesK49UgK",
        "outputId": "b9bd4064-f6f1-4dee-cde0-4c88f0969a72"
      },
      "outputs": [
        {
          "name": "stdout",
          "output_type": "stream",
          "text": [
            "Database connection successful!\n"
          ]
        }
      ],
      "source": [
        "#Establishing datanbase connection\n",
        "try:\n",
        "  db = SQLDatabase.from_uri(f\"mysql+pymysql://{db_user}:{db_password}@{db_host}/{db_name}\")\n",
        "  print(\"Database connection successful!\")\n",
        "except Exception as e:\n",
        "  # If an exception occurs, print an error message\n",
        "  print(f\"Error connecting to the database: {str(e)}\")"
      ]
    },
    {
      "cell_type": "code",
      "execution_count": 6,
      "metadata": {
        "id": "LUWMIKWp9Y6L"
      },
      "outputs": [
        {
          "name": "stderr",
          "output_type": "stream",
          "text": [
            "f:\\Upwork_Projects\\Query_database\\querydb-env\\Lib\\site-packages\\langchain_core\\_api\\deprecation.py:117: LangChainDeprecationWarning: The function `run` was deprecated in LangChain 0.1.0 and will be removed in 0.2.0. Use invoke instead.\n",
            "  warn_deprecated(\n"
          ]
        },
        {
          "name": "stdout",
          "output_type": "stream",
          "text": [
            "\n",
            "\n",
            "\u001b[1m> Entering new AgentExecutor chain...\u001b[0m\n",
            "\u001b[32;1m\u001b[1;3mI need to find the table that contains transaction data and then query for the maximum transaction value.\n",
            "Action: sql_db_list_tables\n",
            "Action Input: \u001b[0m\u001b[38;5;200m\u001b[1;3mcreditcard\u001b[0m\u001b[32;1m\u001b[1;3mI need to query the creditcard table to find the maximum transaction value.\n",
            "Action: sql_db_schema\n",
            "Action Input: creditcard\u001b[0m\u001b[33;1m\u001b[1;3m\n",
            "CREATE TABLE creditcard (\n",
            "\t`Time` INTEGER, \n",
            "\t`V1` FLOAT, \n",
            "\t`V2` FLOAT, \n",
            "\t`V3` FLOAT, \n",
            "\t`V4` FLOAT, \n",
            "\t`V5` FLOAT, \n",
            "\t`V6` FLOAT, \n",
            "\t`V7` FLOAT, \n",
            "\t`V8` FLOAT, \n",
            "\t`V9` FLOAT, \n",
            "\t`V10` FLOAT, \n",
            "\t`V11` FLOAT, \n",
            "\t`V12` FLOAT, \n",
            "\t`V13` FLOAT, \n",
            "\t`V14` FLOAT, \n",
            "\t`V15` FLOAT, \n",
            "\t`V16` FLOAT, \n",
            "\t`V17` FLOAT, \n",
            "\t`V18` FLOAT, \n",
            "\t`V19` FLOAT, \n",
            "\t`V20` FLOAT, \n",
            "\t`V21` FLOAT, \n",
            "\t`V22` FLOAT, \n",
            "\t`V23` FLOAT, \n",
            "\t`V24` FLOAT, \n",
            "\t`V25` FLOAT, \n",
            "\t`V26` FLOAT, \n",
            "\t`V27` FLOAT, \n",
            "\t`V28` FLOAT, \n",
            "\t`Amount` FLOAT, \n",
            "\t`Class` VARCHAR(50)\n",
            ")DEFAULT CHARSET=utf8mb4 COLLATE utf8mb4_0900_ai_ci ENGINE=InnoDB\n",
            "\n",
            "/*\n",
            "3 rows from creditcard table:\n",
            "Time\tV1\tV2\tV3\tV4\tV5\tV6\tV7\tV8\tV9\tV10\tV11\tV12\tV13\tV14\tV15\tV16\tV17\tV18\tV19\tV20\tV21\tV22\tV23\tV24\tV25\tV26\tV27\tV28\tAmount\tClass\n",
            "0\t-1.35981\t-0.0727812\t2.53635\t1.37816\t-0.338321\t0.462388\t0.239599\t0.0986979\t0.363787\t0.0907942\t-0.5516\t-0.617801\t-0.99139\t-0.311169\t1.46818\t-0.470401\t0.207971\t0.0257906\t0.403993\t0.251412\t-0.0183068\t0.277838\t-0.110474\t0.0669281\t0.128539\t-0.189115\t0.133558\t-0.0210531\t149.62\t\"0\"\n",
            "0\t1.19186\t0.266151\t0.16648\t0.448154\t0.0600176\t-0.0823608\t-0.078803\t0.0851017\t-0.255425\t-0.166974\t1.61273\t1.06524\t0.489095\t-0.143772\t0.635558\t0.463917\t-0.114805\t-0.183361\t-0.145783\t-0.0690831\t-0.225775\t-0.638672\t0.101288\t-0.339846\t0.16717\t0.125895\t-0.0089831\t0.0147242\t2.69\t\"0\"\n",
            "1\t-1.35835\t-1.34016\t1.77321\t0.37978\t-0.503198\t1.8005\t0.791461\t0.247676\t-1.51465\t0.207643\t0.624501\t0.0660837\t0.717293\t-0.165946\t2.34587\t-2.89008\t1.10997\t-0.121359\t-2.26186\t0.52498\t0.247998\t0.771679\t0.909412\t-0.689281\t-0.327642\t-0.139097\t-0.0553528\t-0.0597518\t378.66\t\"0\"\n",
            "*/\u001b[0m\u001b[32;1m\u001b[1;3mI need to query the creditcard table to find the maximum transaction value.\n",
            "Action: sql_db_query\n",
            "Action Input: SELECT MAX(Amount) FROM creditcard;\u001b[0m\u001b[36;1m\u001b[1;3m[(25691.2,)]\u001b[0m\u001b[32;1m\u001b[1;3mI now know the final answer\n",
            "Final Answer: The maximum transaction value in the creditcard table is $25,691.20.\u001b[0m\n",
            "\n",
            "\u001b[1m> Finished chain.\u001b[0m\n",
            "The maximum transaction value in the creditcard table is $25,691.20.\n"
          ]
        }
      ],
      "source": [
        "#testing\n",
        "input_text = \"What is the maximum transaction in database table?\"\n",
        "reply = mysqldb_agent(db, llm, input_text)\n",
        "print(reply)"
      ]
    }
  ],
  "metadata": {
    "colab": {
      "provenance": []
    },
    "kernelspec": {
      "display_name": "Python 3",
      "name": "python3"
    },
    "language_info": {
      "codemirror_mode": {
        "name": "ipython",
        "version": 3
      },
      "file_extension": ".py",
      "mimetype": "text/x-python",
      "name": "python",
      "nbconvert_exporter": "python",
      "pygments_lexer": "ipython3",
      "version": "3.11.5"
    }
  },
  "nbformat": 4,
  "nbformat_minor": 0
}
