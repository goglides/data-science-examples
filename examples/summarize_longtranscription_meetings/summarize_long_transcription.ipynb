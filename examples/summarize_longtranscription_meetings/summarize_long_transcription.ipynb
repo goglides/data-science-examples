{
 "cells": [
  {
   "cell_type": "markdown",
   "metadata": {},
   "source": [
    "### Summarize long transcription meetings"
   ]
  },
  {
   "cell_type": "code",
   "execution_count": null,
   "metadata": {},
   "outputs": [],
   "source": [
    "%pip install -q python-dotenv langchain langchain-openai"
   ]
  },
  {
   "cell_type": "code",
   "execution_count": 1,
   "metadata": {},
   "outputs": [],
   "source": [
    "from langchain.chains.summarize import load_summarize_chain\n",
    "from langchain_openai import ChatOpenAI\n",
    "from langchain.schema.document import Document\n",
    "import os\n",
    "from dotenv import load_dotenv\n",
    "load_dotenv()\n",
    "api_key = os.getenv(\"openai_api_key\")"
   ]
  },
  {
   "cell_type": "code",
   "execution_count": 3,
   "metadata": {},
   "outputs": [],
   "source": [
    "llm = ChatOpenAI(temperature=0, model_name=\"gpt-3.5-turbo\", api_key=api_key)"
   ]
  },
  {
   "cell_type": "code",
   "execution_count": 4,
   "metadata": {},
   "outputs": [],
   "source": [
    "def summary(trans):\n",
    "  # Create a document object with some text and metadata\n",
    "  doc = Document(page_content=trans, metadata={\"source\": \"local\"})\n",
    "  chain = load_summarize_chain(llm, chain_type=\"stuff\")\n",
    "  return chain.run([doc])"
   ]
  },
  {
   "cell_type": "code",
   "execution_count": 5,
   "metadata": {},
   "outputs": [
    {
     "name": "stderr",
     "output_type": "stream",
     "text": [
      "f:\\Upwork_Projects\\Summarize_longtranscription_meetings\\longtrans-env\\Lib\\site-packages\\langchain_core\\_api\\deprecation.py:117: LangChainDeprecationWarning: The function `run` was deprecated in LangChain 0.1.0 and will be removed in 0.2.0. Use invoke instead.\n",
      "  warn_deprecated(\n"
     ]
    },
    {
     "name": "stdout",
     "output_type": "stream",
     "text": [
      "The CTAS County Commission meeting was called to order by Chairman Wormsley. The agenda and minutes were approved with minor corrections. Resolutions to purchase a laptop and increase state match local litigation taxes were discussed and voted on. The increase in taxes failed to pass. A resolution to increase the wheel tax to make up for education funding cuts was passed after a motion for previous question. The meeting concluded with announcements and adjournment.\n"
     ]
    }
   ],
   "source": [
    "input_tran = '''Meeting of CTAS County Commission-Transcript of Dialogue\n",
    "\n",
    "Chairman Wormsley (at the proper time and place, after taking the chair and striking the gavel on the table): This meeting of the CTAS County Commission will come to order. Clerk please call the role. (Ensure that a majority of the members are present.)\n",
    "\n",
    "Chairman Wormsley: Each of you has received the agenda. I will entertain a motion that the agenda be approved.\n",
    "\n",
    "Commissioner Brown: So moved.\n",
    "\n",
    "Commissioner Hobbs: Seconded\n",
    "\n",
    "Chairman Wormsley: It has been moved and seconded that the agenda be approved as received by the members. All those in favor signify by saying \"Aye\"?...Opposed by saying \"No\"?...The agenda is approved. You have received a copy of the minutes of the last meeting. Are there any corrections or additions to the meeting?\n",
    "\n",
    "Commissioner McCroskey: Mister Chairman, my name has been omitted from the Special Committee on Indigent Care.\n",
    "\n",
    "Chairman Wormsley: Thank you. If there are no objections, the minutes will be corrected to include the name of Commissioner McCroskey. Will the clerk please make this correction. Any further corrections? Seeing none, without objection the minutes will stand approved as read. (This is sort of a short cut way that is commonly used for approval of minutes and/or the agenda rather than requiring a motion and second.)\n",
    "\n",
    "Chairman Wormsley: Commissioner Adkins, the first item on the agenda is yours.\n",
    "\n",
    "Commissioner Adkins: Mister Chairman, I would like to make a motion to approve the resolution taking money from the Data Processing Reserve Account in the County Clerk's office and moving it to the equipment line to purchase a laptop computer.\n",
    "\n",
    "Commissioner Carmical: I second the motion.\n",
    "\n",
    "Chairman Wormsley: This resolution has a motion and second. Will the clerk please take the vote.\n",
    "\n",
    "Chairman Wormsley: The resolution passes. We will now take up old business. At our last meeting, Commissioner McKee, your motion to sell property near the airport was deferred to this meeting. You are recognized.\n",
    "\n",
    "Commissioner McKee: I move to withdraw that motion.\n",
    "\n",
    "Chairman Wormsley: Commissioner McKee has moved to withdraw his motion to sell property near the airport. Seeing no objection, this motion is withdrawn. The next item on the agenda is Commissioner Rodgers'.\n",
    "\n",
    "Commissioner Rodgers: I move adopton of the resolution previously provided to each of you to increase the state match local litigation tax in circuit, chancery, and criminal courts to the maximum amounts permissible. This resolution calls for the increases to go to the general fund.\n",
    "\n",
    "Chairman Wormsley: Commissioner Duckett\n",
    "\n",
    "Commissioner Duckett: The sheriff is opposed to this increase.\n",
    "\n",
    "Chairman Wormsley: Commissioner, you are out of order because this motion has not been seconded as needed before the floor is open for discussion or debate. Discussion will begin after we have a second. Is there a second?\n",
    "\n",
    "Commissioner Reinhart: For purposes of discussion, I second the motion.\n",
    "\n",
    "Chairman Wormsley: Commissioner Rodgers is recognized.\n",
    "\n",
    "Commissioner Rodgers: (Speaks about the data on collections, handing out all sorts of numerical figures regarding the litigation tax, and the county's need for additional revenue.)\n",
    "\n",
    "Chairman Wormsley: Commissioner Duckett\n",
    "\n",
    "Commissioner Duckett: I move an amendment to the motion to require 25 percent of the proceeds from the increase in the tax on criminal cases go to fund the sheriff's department.\n",
    "\n",
    "Chairman Wormsley: Commissioner Malone\n",
    "\n",
    "Commissioner Malone: I second the amendment.\n",
    "\n",
    "Chairman Wormsley: A motion has been made and seconded to amend the motion to increase the state match local litigation taxes to the maximum amounts to require 25 percent of the proceeds from the increase in the tax on criminal cases in courts of record going to fund the sheriff's department. Any discussion? Will all those in favor please raise your hand? All those opposed please raise your hand. The amendment carries 17-2. We are now on the motion as amended. Any further discussion?\n",
    "\n",
    "Commissioner Headrick: Does this require a two-thirds vote?\n",
    "\n",
    "Chairman Wormsley: Will the county attorney answer that question?\n",
    "\n",
    "County Attorney Fults: Since these are only courts of record, a majority vote will pass it. The two-thirds requirement is for the general sessions taxes.\n",
    "\n",
    "Chairman Wormsley: Other questions or discussion? Commissioner Adams.\n",
    "\n",
    "Commissioner Adams: Move for a roll call vote.\n",
    "\n",
    "Commissioner Crenshaw: Second\n",
    "\n",
    "Chairman Wormsley: The motion has been made and seconded that the state match local litigation taxes be increased to the maximum amounts allowed by law with 25 percent of the proceeds from the increase in the tax on criminal cases in courts of record going to fund the sheriff's department. Will all those in favor please vote as the clerk calls your name, those in favor vote \"aye,\" those against vote \"no.\" Nine votes for, nine votes against, one not voting. The increase fails. We are now on new business. Commissioner Adkins, the first item on the agenda is yours.\n",
    "\n",
    "Commissioner Adkins: Each of you has previously received a copy of a resolution to increase the wheel tax by $10 to make up the state cut in education funding. I move adoption of this resolution.\n",
    "\n",
    "Chairman Wormsley: Commissioner Thompson\n",
    "\n",
    "Commissioner Thompson: I second.\n",
    "\n",
    "Chairman Wormsley: It has been properly moved and seconded that a resolution increasing the wheel tax by $10 to make up the state cut in education funding be passed. Any discussion? (At this point numerous county commissioners speak for and against increasing the wheel tax and making up the education cuts. This is the first time this resolution is under consideration.) Commissioner Hayes is recognized.\n",
    "\n",
    "Commissioner Hayes: I move previous question.\n",
    "\n",
    "Commisioner Crenshaw: Second.\n",
    "\n",
    "Chairman Wormsley: Previous question has been moved and seconded. As you know, a motion for previous question, if passed by a two-thirds vote, will cut off further debate and require us to vote yes or no on the resolution before us. You should vote for this motion if you wish to cut off further debate of the wheel tax increase at this point. Will all those in favor of previous question please raise your hand? Will all those against please raise your hand? The vote is 17-2. Previous question passes. We are now on the motion to increase the wheel tax by $10 to make up the state cut in education funding. Will all those in favor please raise your hand? Will all those against please raise your hand? The vote is 17-2. This increase passes on first passage. Is there any other new business? Since no member is seeking recognition, are there announcements? Commissioner Hailey.\n",
    "\n",
    "Commissioner Hailey: There will be a meeting of the Budget Committee to look at solid waste funding recommendations on Tuesday, July 16 at noon here in this room.\n",
    "\n",
    "Chairman Wormsley: Any other announcements? The next meeting of this body will be Monday, August 19 at 7 p.m., here in this room. Commissioner Carmical.\n",
    "\n",
    "Commissioner Carmical: There will be a chili supper at County Elementary School on August 16 at 6:30 p.m. Everyone is invited.\n",
    "\n",
    "Chairman Wormsley: Commissioner Austin.\n",
    "\n",
    "Commissioner Austin: Move adjournment.\n",
    "\n",
    "Commissioner Garland: Second.\n",
    "\n",
    "Chairman Wormsley: Without objection, the meeting will stand adjourned.'''\n",
    "summ = summary(input_tran)\n",
    "print(summ)"
   ]
  },
  {
   "cell_type": "code",
   "execution_count": null,
   "metadata": {},
   "outputs": [],
   "source": []
  }
 ],
 "metadata": {
  "kernelspec": {
   "display_name": "longtrans-env",
   "language": "python",
   "name": "python3"
  },
  "language_info": {
   "codemirror_mode": {
    "name": "ipython",
    "version": 3
   },
   "file_extension": ".py",
   "mimetype": "text/x-python",
   "name": "python",
   "nbconvert_exporter": "python",
   "pygments_lexer": "ipython3",
   "version": "3.11.5"
  }
 },
 "nbformat": 4,
 "nbformat_minor": 2
}
