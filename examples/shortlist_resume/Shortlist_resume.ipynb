{
 "cells": [
  {
   "cell_type": "markdown",
   "metadata": {},
   "source": [
    "### Shortlist resume based on given job description, resume and crieteria"
   ]
  },
  {
   "cell_type": "code",
   "execution_count": 1,
   "metadata": {},
   "outputs": [
    {
     "name": "stderr",
     "output_type": "stream",
     "text": [
      "f:\\Upwork_Projects\\Shortlist_resume\\resume-env\\Lib\\site-packages\\fuzzywuzzy\\fuzz.py:11: UserWarning: Using slow pure-python SequenceMatcher. Install python-Levenshtein to remove this warning\n",
      "  warnings.warn('Using slow pure-python SequenceMatcher. Install python-Levenshtein to remove this warning')\n"
     ]
    }
   ],
   "source": [
    "from langchain_community.document_loaders import PyPDFLoader\n",
    "from openai import OpenAI\n",
    "from fuzzywuzzy import fuzz\n",
    "import os\n",
    "from dotenv import load_dotenv\n",
    "load_dotenv()\n",
    "api_key = os.getenv(\"openai_api_key\")"
   ]
  },
  {
   "cell_type": "code",
   "execution_count": 2,
   "metadata": {},
   "outputs": [],
   "source": [
    "client = OpenAI(api_key=api_key)"
   ]
  },
  {
   "cell_type": "code",
   "execution_count": 3,
   "metadata": {},
   "outputs": [],
   "source": [
    "def extract_skills(data):\n",
    "  response = client.chat.completions.create(\n",
    "    model=\"gpt-3.5-turbo-0125\",\n",
    "    messages=[\n",
    "      {\"role\": \"system\", \"content\": \"You are an expert in extracting key technical skill, experience, education qualification from the given resume/job description\"},\n",
    "      {\"role\": \"user\", \"content\": data}\n",
    "    ]\n",
    "  )\n",
    "  return response.choices[0].message.content"
   ]
  },
  {
   "cell_type": "code",
   "execution_count": 4,
   "metadata": {},
   "outputs": [],
   "source": [
    "def resume_shortlist(desc, path, criteria):\n",
    "  question = \"Extract all the key skills, experience, education qualification from the text given\"\n",
    "  doc1 = extract_skills(question+desc)\n",
    "  print(doc1)\n",
    "  loader = PyPDFLoader(path)\n",
    "  docs = loader.load()\n",
    "  doc2 = extract_skills(question+docs[0].page_content)\n",
    "  print(doc2)\n",
    "  match_percentage = fuzz.ratio(doc1, doc2)\n",
    "  if match_percentage >= criteria:\n",
    "    return \"This resume qualified for screening round!\\n\\n\"+\"Match Percentage: \"+str(match_percentage)\n",
    "  else:\n",
    "    return \"It does not match with our job description!\\n\\n\"+\"Match Percentage: \"+str(match_percentage)"
   ]
  },
  {
   "cell_type": "code",
   "execution_count": 6,
   "metadata": {},
   "outputs": [
    {
     "name": "stdout",
     "output_type": "stream",
     "text": [
      "Key Skills:\n",
      "- Logistic regression\n",
      "- Data management\n",
      "- Data science\n",
      "- Agile development\n",
      "- Linear regression\n",
      "- Programming\n",
      "- Information architecture\n",
      "- SQL\n",
      "- Cloud (AWS, Azure)\n",
      "- Basic statistical literacy (probability, statistical distributions, inferential statistics)\n",
      "\n",
      "Experience:\n",
      "- Designing and developing data science solutions independently\n",
      "- Collaborating with business functions to design and shape experiments\n",
      "- Defining best practices related to information architecture\n",
      "- Communicating findings to internal teams\n",
      "- Engaging in data science practice development initiatives\n",
      "\n",
      "Education Qualifications:\n",
      "- UG: Any Graduate\n",
      "- PG: Any Postgraduate\n",
      "\n",
      "Additional Information:\n",
      "- Experience in applying basic statistical techniques such as multiple linear regression and logistic regression\n",
      "- Data management skills using SQL\n",
      "- Basic understanding of Cloud platforms like AWS, Azure\n",
      "- Experience in agile development methodologies\n",
      "- Excellent programming skills in Python\n",
      "Key Skills:\n",
      "- Languages: Java, Python, C, C++, Groovy\n",
      "- Web Development: HTML5, CSS, jQuery, React.js, D3.js, JavaScript\n",
      "- Tools & Frameworks: MapReduce, Flask, Spring Boot, Junit, Pandas, Spark, scikit-learn, Keras, NLTK\n",
      "- Cloud & Databases: MySQL, MongoDB, AWS (S3, EC2, Lambda), DB2, Hadoop, IBM Cloud\n",
      "- Operating Systems & Tools: Windows, Linux, IntelliJ, Jenkins, Git, Chef, Maven, Unix, Valgrind, GNU\n",
      "- Other: Microservices, Deep Learning, System Design, Forecasting, Distributed Systems\n",
      "\n",
      "Key Experience:\n",
      "- Developed microservices using Java, Spring Boot, and Spring Cloud for customer analysis at Barclays USA\n",
      "- Implemented CI/CD automation using Jenkins, reducing man hours by 90%\n",
      "- Improved fraud detection rate by 9.2% at Wipro Digital using machine learning models\n",
      "- Developed an Auto ML system for financial forecasting with a quarterly accuracy of 99.3%\n",
      "- Utilized serverless AWS Lambda and S3 for infrastructure auto-scaling during peak traffic hours\n",
      "- Implemented various projects involving multithreading, web development, machine learning, natural language processing, and forecasting\n",
      "\n",
      "Key Education:\n",
      "- Master of Science in Computer Science from SUNY, Stony Brook University with a GPA of 3.93/4\n",
      "- Bachelor's in Electronics and Communication from VIT University, Vellore, India with a GPA of 9.41/10\n",
      "It does not match with our job description!\n",
      "\n",
      "Match Percentage: 6\n"
     ]
    }
   ],
   "source": [
    "job_desc = '''Job description\n",
    "\n",
    "    Design and Develop data science solutions fairly independently to drive incremental value for the Anko.\n",
    "\n",
    "    Collaborate with business functions to design and shape experiments to demonstrate data science-enabled advantage.\n",
    "    Define best practices related to information architecture, including collection, integration, organization, analysis and visualization of data for data-enabled impact.\n",
    "    Communicate findings to internal teams to enable business impact.\n",
    "    Engage in data science practice development initiatives focused on building employee knowledge and skills in specific areas of expertise through coaching and development of training course material.\n",
    "\n",
    "Technical skills required:\n",
    "\n",
    "    Basic statistical literacy is a must - Concepts in probability, statistical distributions, inferential statistics. Hands on experience in simple techniques such as multiple linear regression and logistic regression is mandatory.\n",
    "    Data Management Skills using SQL\n",
    "    Basic understanding of Cloud (AWS, Azure, etc.).\n",
    "    Experience in agile development methodologies\n",
    "    Excellent programming skills in Python\n",
    "\n",
    "Roles Responsibilities:\n",
    "\n",
    "    As a data scientist at Anko, you will help transform the Kmart group data into tangible business value by analysing information, synthesizing insights and communicating outcomes\n",
    "    Uses the latest technologies that directly impact performance. Readily learns and adopts new technologies. Identifies technologies that can help complete tasks. Understands the terminology of the latest technologies.\n",
    "    Adheres to defined and communicated standards, methods, and procedures. Informs others about process problems. Seeks ways to work better within the processes. Suggests process and practice improvement ideas for own work area.\n",
    "    Asks for input about how own actions impact others. Reacts positively when constructive criticism is offered. Recognises own mistakes and the need to operate differently. Seeks feedback from others.\n",
    "    Willing to take on the unknown when asked to do so. Will say what needs to be said. Responds appropriately to confrontation and challenge. Faces adversity and challenges.\n",
    "\n",
    "Role: Data Scientist\n",
    "Industry Type: IT Services & Consulting\n",
    "Department: Data Science & Analytics\n",
    "Employment Type: Full Time, Permanent\n",
    "Role Category: Data Science & Machine Learning\n",
    "Education\n",
    "UG: Any Graduate\n",
    "PG: Any Postgraduate\n",
    "Key Skills\n",
    "Logistic regression Data management data science Agile development linear regression Programming Information architecture SQL'''\n",
    "file_path = \"data/1600113940168.pdf\"\n",
    "res = resume_shortlist(job_desc, file_path, 50)\n",
    "print(res)"
   ]
  }
 ],
 "metadata": {
  "kernelspec": {
   "display_name": "resume-env",
   "language": "python",
   "name": "python3"
  },
  "language_info": {
   "codemirror_mode": {
    "name": "ipython",
    "version": 3
   },
   "file_extension": ".py",
   "mimetype": "text/x-python",
   "name": "python",
   "nbconvert_exporter": "python",
   "pygments_lexer": "ipython3",
   "version": "3.11.5"
  }
 },
 "nbformat": 4,
 "nbformat_minor": 2
}
